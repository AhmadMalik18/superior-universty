{
 "cells": [
  {
   "cell_type": "markdown",
   "id": "b0875fd9-741c-421d-b980-819e8d7a9051",
   "metadata": {},
   "source": [
    "                                                        task 1"
   ]
  },
  {
   "cell_type": "code",
   "execution_count": 3,
   "id": "e154f86d-a00a-446c-a9fa-eada764e463e",
   "metadata": {},
   "outputs": [
    {
     "name": "stdout",
     "output_type": "stream",
     "text": [
      "Car Information:\n",
      "Make: toyota, Model: grandee\n",
      "Number of Doors: 4\n",
      "\n",
      "Luxury Car Information:\n",
      "Make: honda, Model: cvic\n",
      "Luxury Features: Leather Seats, Sunroof, Navigation\n"
     ]
    }
   ],
   "source": [
    "class Vehicle:\n",
    "    def __init__(self, make, model):\n",
    "        self.make = make         \n",
    "        self.model = model     \n",
    "    def display_info(self):\n",
    "        print(f\"Make: {self.make}, Model: {self.model}\")\n",
    "class Car(Vehicle):\n",
    "    def __init__(self, make, model, num_doors):\n",
    "        super().__init__(make, model) \n",
    "        self.num_doors = num_doors      \n",
    "    def additional_info(self):\n",
    "        print(f\"Number of Doors: {self.num_doors}\")\n",
    "class LuxuryCar(Car):\n",
    "    def __init__(self, make, model, num_doors, features):\n",
    "        super().__init__(make, model, num_doors)  \n",
    "        self.features = features  \n",
    "    def additional_info(self):\n",
    "        print(f\"Luxury Features: {', '.join(self.features)}\")\n",
    "\n",
    "    car = Car(\"toyota\", \"grandee\", 4)\n",
    "    print(\"Car Information:\")\n",
    "    car.display_info()           \n",
    "    car.additional_info()      \n",
    "    print()\n",
    "\n",
    "    luxury_car = LuxuryCar(\"honda\", \"cvic\", 4, [\"Leather Seats\", \"Sunroof\", \"Navigation\"])\n",
    "    print(\"Luxury Car Information:\")\n",
    "    luxury_car.display_info()    \n",
    "    luxury_car.additional_info()\n"
   ]
  },
  {
   "cell_type": "markdown",
   "id": "408de5e5-092c-4a3b-b891-5a8eb6af9fd4",
   "metadata": {},
   "source": [
    "                                                task 2"
   ]
  },
  {
   "cell_type": "code",
   "execution_count": 10,
   "id": "20c73919-2dfc-4add-ad06-ba50cd4bf322",
   "metadata": {},
   "outputs": [
    {
     "name": "stdout",
     "output_type": "stream",
     "text": [
      "Manager Information:\n",
      "Name: adnan\n",
      "Position: event manager\n",
      "Department: IT\n",
      "\n",
      "Worker Information:\n",
      "Name: ali\n",
      "Position: artifcial intelgence\n",
      "Hours Worked: 10\n"
     ]
    }
   ],
   "source": [
    "class Employee:\n",
    "    def __init__(self, name, position):\n",
    "        self.name = name           \n",
    "        self.position = position    \n",
    "    def display_info(self):\n",
    "        print(f\"Name: {self.name}\")\n",
    "        print(f\"Position: {self.position}\")\n",
    "\n",
    "class Manager(Employee):\n",
    "    def __init__(self, name, position, department):\n",
    "        super().__init__(name, position)\n",
    "        self.department = department      \n",
    "    def additional_info(self):\n",
    "        print(f\"Department: {self.department}\")\n",
    "\n",
    "class Worker(Employee):\n",
    "    def __init__(self, name, position, hours_worked):\n",
    "        super().__init__(name, position)  \n",
    "        self.hours_worked = hours_worked  \n",
    "    def additional_info(self):\n",
    "        print(f\"Hours Worked: {self.hours_worked}\")\n",
    "\n",
    "    manager = Manager(\"adnan\", \"event manager\", \"IT\")\n",
    "    print(\"Manager Information:\")\n",
    "    manager.display_info()          \n",
    "    manager.additional_info()       \n",
    "    print()\n",
    "\n",
    "\n",
    "    worker = Worker(\"ali\", \"artifcial intelgence\", 10)\n",
    "    print(\"Worker Information:\")\n",
    "    worker.display_info()             \n",
    "    worker.additional_info()       \n"
   ]
  },
  {
   "cell_type": "code",
   "execution_count": null,
   "id": "6fe2aa6a-35a5-491a-ac9b-563a33ae9480",
   "metadata": {},
   "outputs": [],
   "source": []
  }
 ],
 "metadata": {
  "kernelspec": {
   "display_name": "Python 3 (ipykernel)",
   "language": "python",
   "name": "python3"
  },
  "language_info": {
   "codemirror_mode": {
    "name": "ipython",
    "version": 3
   },
   "file_extension": ".py",
   "mimetype": "text/x-python",
   "name": "python",
   "nbconvert_exporter": "python",
   "pygments_lexer": "ipython3",
   "version": "3.11.7"
  },
  "widgets": {
   "application/vnd.jupyter.widget-state+json": {
    "state": {},
    "version_major": 2,
    "version_minor": 0
   }
  }
 },
 "nbformat": 4,
 "nbformat_minor": 5
}
