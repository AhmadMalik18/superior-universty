{
 "cells": [
  {
   "cell_type": "code",
   "execution_count": 3,
   "id": "986fb48c-adbd-49ce-8b65-2dfe013ae6f3",
   "metadata": {},
   "outputs": [
    {
     "name": "stdin",
     "output_type": "stream",
     "text": [
      "Enter course type (undergraduate/graduate):  graduate\n",
      "Enter course code:  2024\n",
      "Enter course name:  bsai\n",
      "Enter research area:  lahore\n"
     ]
    },
    {
     "name": "stdout",
     "output_type": "stream",
     "text": [
      "\n",
      "Registered Course Information:\n",
      "Course Code: 2024\n",
      "Course Name: bsai\n",
      "Research Area: lahore\n"
     ]
    }
   ],
   "source": [
    "class Course:\n",
    "    def __init__(self, course_code, course_name):\n",
    "        self.course_code = course_code   \n",
    "        self.course_name = course_name      \n",
    "    def display_info(self):\n",
    "        print(f\"Course Code: {self.course_code}\")\n",
    "        print(f\"Course Name: {self.course_name}\")\n",
    "class UndergraduateCourse(Course):\n",
    "    def __init__(self, course_code, course_name, year_level):\n",
    "        super().__init__(course_code, course_name) \n",
    "        self.year_level = year_level               \n",
    "    def additional_info(self):\n",
    "        print(f\"Year Level: {self.year_level}\")\n",
    "class GraduateCourse(Course):\n",
    "    def __init__(self, course_code, course_name, research_area):\n",
    "        super().__init__(course_code, course_name) \n",
    "        self.research_area = research_area           \n",
    "    def additional_info(self):\n",
    "        print(f\"Research Area: {self.research_area}\")\n",
    "def register_course():\n",
    "    course_type = input(\"Enter course type (undergraduate/graduate): \").strip().lower()\n",
    "    course_code = input(\"Enter course code: \").strip()\n",
    "    course_name = input(\"Enter course name: \").strip()\n",
    "\n",
    "    if course_type == \"undergraduate\":\n",
    "        year_level = input(\"Enter year level (e.g., Freshman, Sophomore, Junior, Senior): \").strip()\n",
    "        course = UndergraduateCourse(course_code, course_name, year_level)\n",
    "    elif course_type == \"graduate\":\n",
    "        research_area = input(\"Enter research area: \").strip()\n",
    "        course = GraduateCourse(course_code, course_name, research_area)\n",
    "    else:\n",
    "        print(\"Invalid course type entered.\")\n",
    "        return\n",
    "    print(\"\\nRegistered Course Information:\")\n",
    "    course.display_info()        \n",
    "    course.additional_info()     \n",
    "if __name__ == \"__main__\":\n",
    "    register_course()\n"
   ]
  },
  {
   "cell_type": "code",
   "execution_count": null,
   "id": "c83749b0-1b1e-4682-8e6f-786f74084320",
   "metadata": {},
   "outputs": [],
   "source": []
  },
  {
   "cell_type": "code",
   "execution_count": null,
   "id": "55aab6a9-4069-4bcd-a385-b94e9c79bb68",
   "metadata": {},
   "outputs": [],
   "source": []
  }
 ],
 "metadata": {
  "kernelspec": {
   "display_name": "Python 3 (ipykernel)",
   "language": "python",
   "name": "python3"
  },
  "language_info": {
   "codemirror_mode": {
    "name": "ipython",
    "version": 3
   },
   "file_extension": ".py",
   "mimetype": "text/x-python",
   "name": "python",
   "nbconvert_exporter": "python",
   "pygments_lexer": "ipython3",
   "version": "3.11.7"
  },
  "widgets": {
   "application/vnd.jupyter.widget-state+json": {
    "state": {},
    "version_major": 2,
    "version_minor": 0
   }
  }
 },
 "nbformat": 4,
 "nbformat_minor": 5
}
