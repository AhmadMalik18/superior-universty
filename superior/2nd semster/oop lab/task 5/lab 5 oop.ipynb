{
 "cells": [
  {
   "cell_type": "markdown",
   "id": "82380408-dd60-4603-ae0b-33d3fc6d27d6",
   "metadata": {},
   "source": [
    "                                                  Lab05 "
   ]
  },
  {
   "cell_type": "code",
   "execution_count": 4,
   "id": "12ce78ae-7a33-4c42-918e-5c4f4c0906bf",
   "metadata": {},
   "outputs": [
    {
     "name": "stdout",
     "output_type": "stream",
     "text": [
      "Book Information:\n",
      "Title: Trust and inspire\n",
      "Author: Stephen M.R. Covey\n",
      "Pages: 218\n",
      "\n",
      "Magazine Information:\n",
      "Title: Time\n",
      "Author: Edward Felsenthal.\n",
      "Issue Number: 202\n"
     ]
    }
   ],
   "source": [
    "class Item:\n",
    "    def __init__(self, title, author):\n",
    "        self.title = title      \n",
    "        self.author = author   \n",
    "    def display_info(self):\n",
    "        print(f\"Title: {self.title}\")\n",
    "        print(f\"Author: {self.author}\")\n",
    "\n",
    "class Book(Item):\n",
    "    def __init__(self, title, author, pages):\n",
    "        super().__init__(title, author)  \n",
    "        self.pages = pages             \n",
    "    def additional_info(self):\n",
    "        print(f\"Pages: {self.pages}\")\n",
    "class Magazine(Item):\n",
    "    def __init__(self, title, author, issue_number):\n",
    "        super().__init__(title, author)\n",
    "        self.issue_number = issue_number  \n",
    "    def additional_info(self):\n",
    "        print(f\"Issue Number: {self.issue_number}\")\n",
    "if __name__ == \"__main__\":\n",
    "    book = Book(\"Trust and inspire\", \"Stephen M.R. Covey\", 218)\n",
    "    print(\"Book Information:\")\n",
    "    book.display_info()       \n",
    "    book.additional_info()     \n",
    "    print()\n",
    "\n",
    "    magazine = Magazine(\"Time\", \"Edward Felsenthal.\", 202)\n",
    "    print(\"Magazine Information:\")\n",
    "    magazine.display_info()   \n",
    "    magazine.additional_info()   \n"
   ]
  },
  {
   "cell_type": "code",
   "execution_count": null,
   "id": "6f1d2334-a11b-4ed8-b399-3b4a8a44cc99",
   "metadata": {},
   "outputs": [],
   "source": []
  }
 ],
 "metadata": {
  "kernelspec": {
   "display_name": "Python 3 (ipykernel)",
   "language": "python",
   "name": "python3"
  },
  "language_info": {
   "codemirror_mode": {
    "name": "ipython",
    "version": 3
   },
   "file_extension": ".py",
   "mimetype": "text/x-python",
   "name": "python",
   "nbconvert_exporter": "python",
   "pygments_lexer": "ipython3",
   "version": "3.11.7"
  },
  "widgets": {
   "application/vnd.jupyter.widget-state+json": {
    "state": {},
    "version_major": 2,
    "version_minor": 0
   }
  }
 },
 "nbformat": 4,
 "nbformat_minor": 5
}
