{
 "cells": [
  {
   "cell_type": "code",
   "execution_count": 3,
   "id": "b64e76d8-9864-4adb-be78-ff63b895725d",
   "metadata": {},
   "outputs": [
    {
     "name": "stdout",
     "output_type": "stream",
     "text": [
      "File not found. Please add employe first.\n",
      "\n",
      "employee management system\n",
      "1. add employe\n",
      "2. save employes to file\n",
      "3. display employes\n",
      "4. exit\n"
     ]
    },
    {
     "name": "stdin",
     "output_type": "stream",
     "text": [
      "Choose an option:  1\n",
      "enter name:  ahmad\n",
      "enter age:  20\n",
      "enter employe id:  382984984\n",
      "enter position:  asistant manager\n",
      "enter department:  it\n"
     ]
    },
    {
     "name": "stdout",
     "output_type": "stream",
     "text": [
      "\n",
      "employee management system\n",
      "1. add employe\n",
      "2. save employes to file\n",
      "3. display employes\n",
      "4. exit\n"
     ]
    },
    {
     "name": "stdin",
     "output_type": "stream",
     "text": [
      "Choose an option:  1\n",
      "enter name:  ali\n",
      "enter age:  22\n",
      "enter employe id:  24839201\n",
      "enter position:  machincal \n",
      "enter department:  machinery\n"
     ]
    },
    {
     "name": "stdout",
     "output_type": "stream",
     "text": [
      "\n",
      "employee management system\n",
      "1. add employe\n",
      "2. save employes to file\n",
      "3. display employes\n",
      "4. exit\n"
     ]
    },
    {
     "name": "stdin",
     "output_type": "stream",
     "text": [
      "Choose an option:  2\n"
     ]
    },
    {
     "name": "stdout",
     "output_type": "stream",
     "text": [
      "employe information saved.\n",
      "\n",
      "employee management system\n",
      "1. add employe\n",
      "2. save employes to file\n",
      "3. display employes\n",
      "4. exit\n"
     ]
    },
    {
     "name": "stdin",
     "output_type": "stream",
     "text": [
      "Choose an option:  3\n"
     ]
    },
    {
     "name": "stdout",
     "output_type": "stream",
     "text": [
      "name: ahmad, age: 20\n",
      "department: it\n",
      "name: ali, age: 22\n",
      "department: machinery\n",
      "\n",
      "employee management system\n",
      "1. add employe\n",
      "2. save employes to file\n",
      "3. display employes\n",
      "4. exit\n"
     ]
    },
    {
     "name": "stdin",
     "output_type": "stream",
     "text": [
      "Choose an option:  4\n"
     ]
    },
    {
     "name": "stdout",
     "output_type": "stream",
     "text": [
      "exiting the program.\n"
     ]
    }
   ],
   "source": [
    "class person:\n",
    "    def __init__(self, name, age):\n",
    "        self.name = name \n",
    "        self.age = age    \n",
    "\n",
    "    def display_info(self):\n",
    "        print(f\"name: {self.name}, age: {self.age}\")\n",
    "\n",
    "class employe:\n",
    "    def __init__(self, employe_id, position):\n",
    "        self.employe_id = employe_id\n",
    "        self.position = position         \n",
    "\n",
    "    def display_info(self):\n",
    "        print(f\"employe ID: {self.employe_id}, position: {self.position}\")\n",
    "\n",
    "class Staff(person, employe):\n",
    "    def __init__(self, name, age, employe_id, position, department):\n",
    "        person.__init__(self, name, age)     \n",
    "        employe.__init__(self, employe_id, position)  \n",
    "        self.department = department            \n",
    "\n",
    "    def additional_info(self):\n",
    "        print(f\"department: {self.department}\")\n",
    "\n",
    "def save_to_file(filename, staff_list):\n",
    "    with open(filename, 'w') as file:\n",
    "        for staff in staff_list:\n",
    "            file.write(f\"{staff.name},{staff.age},{staff.employe_id},{staff.position},{staff.department}\\n\")\n",
    "\n",
    "def read_from_file(filename):\n",
    "    staff_list = []\n",
    "    try:\n",
    "        with open(filename, 'r') as file:\n",
    "            for line in file:\n",
    "                if line.strip(): \n",
    "                    name, age, employe_id, position, department = line.strip().split(',')\n",
    "                    staff = Staff(name, int(age), employe_id, position, department)\n",
    "                    staff_list.append(staff)\n",
    "    except FileNotFoundError:\n",
    "        print(\"File not found. Please add employe first.\")\n",
    "    return staff_list\n",
    "\n",
    "def add_employe(staff_list):\n",
    "    name = input(\"enter name: \")\n",
    "    age = int(input(\"enter age: \"))\n",
    "    employe_id = input(\"enter employe id: \")\n",
    "    position = input(\"enter position: \")\n",
    "    department = input(\"enter department: \")\n",
    "    new_staff = Staff(name, age, employe_id, position, department)\n",
    "    staff_list.append(new_staff)\n",
    "\n",
    "\n",
    "if __name__ == \"__main__\":\n",
    "    filename = 'employe.txt'\n",
    "    staff_list = read_from_file(filename)\n",
    "\n",
    "    while True:\n",
    "        print(\"\\nemployee management system\")\n",
    "        print(\"1. add employe\")\n",
    "        print(\"2. save employes to file\")\n",
    "        print(\"3. display employes\")\n",
    "        print(\"4. exit\")\n",
    "        choice = input(\"Choose an option: \")\n",
    "\n",
    "        if choice == '1':\n",
    "            add_employe(staff_list)\n",
    "        elif choice == '2':\n",
    "            save_to_file(filename, staff_list)\n",
    "            print(\"employe information saved.\")\n",
    "        elif choice == '3':\n",
    "            for staff in staff_list:\n",
    "                staff.display_info()          \n",
    "                staff.additional_info()         \n",
    "        elif choice == '4':\n",
    "            print(\"exiting the program.\")\n",
    "            break\n",
    "        else:\n",
    "            print(\"invalid option. please try again.\")\n"
   ]
  },
  {
   "cell_type": "code",
   "execution_count": null,
   "id": "dc803e1e-120c-4fc3-a3e6-7e92c4647417",
   "metadata": {},
   "outputs": [],
   "source": [
    "\n"
   ]
  }
 ],
 "metadata": {
  "kernelspec": {
   "display_name": "Python 3 (ipykernel)",
   "language": "python",
   "name": "python3"
  },
  "language_info": {
   "codemirror_mode": {
    "name": "ipython",
    "version": 3
   },
   "file_extension": ".py",
   "mimetype": "text/x-python",
   "name": "python",
   "nbconvert_exporter": "python",
   "pygments_lexer": "ipython3",
   "version": "3.11.7"
  },
  "widgets": {
   "application/vnd.jupyter.widget-state+json": {
    "state": {},
    "version_major": 2,
    "version_minor": 0
   }
  }
 },
 "nbformat": 4,
 "nbformat_minor": 5
}
