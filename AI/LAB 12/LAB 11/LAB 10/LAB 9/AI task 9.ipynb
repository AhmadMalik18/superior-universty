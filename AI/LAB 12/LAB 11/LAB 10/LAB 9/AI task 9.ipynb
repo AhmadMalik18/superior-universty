{
 "cells": [
  {
   "cell_type": "code",
   "execution_count": 1,
   "id": "f2be0550",
   "metadata": {},
   "outputs": [],
   "source": [
    "# !pip install pandas\n",
    "# !pip install numpy \n",
    "# !pip install pandas numpy\n"
   ]
  },
  {
   "cell_type": "code",
   "execution_count": 2,
   "id": "1905f37a",
   "metadata": {},
   "outputs": [
    {
     "name": "stdout",
     "output_type": "stream",
     "text": [
      "    Loan_ID Gender Married Dependents     Education Self_Employed  \\\n",
      "0  LP001015   Male     Yes          0      Graduate            No   \n",
      "1  LP001022   Male     Yes          1      Graduate            No   \n",
      "2  LP001031   Male     Yes          2      Graduate            No   \n",
      "3  LP001035   Male     Yes          2      Graduate            No   \n",
      "4  LP001051   Male      No          0  Not Graduate            No   \n",
      "\n",
      "   ApplicantIncomeMonthly  CoapplicantIncomeMonthly  LoanAmountThousands  \\\n",
      "0                    5720                         0                110.0   \n",
      "1                    3076                      1500                126.0   \n",
      "2                    5000                      1800                208.0   \n",
      "3                    2340                      2546                100.0   \n",
      "4                    3276                         0                 78.0   \n",
      "\n",
      "   Loan_Amount_Term_Months  Credit_History Property_Area  \n",
      "0                    360.0             1.0         Urban  \n",
      "1                    360.0             1.0         Urban  \n",
      "2                    360.0             1.0         Urban  \n",
      "3                    360.0             NaN         Urban  \n",
      "4                    360.0             1.0         Urban  \n"
     ]
    }
   ],
   "source": [
    "import pandas as pd\n",
    "df = pd.read_csv('Test_Loan_Home.csv') \n",
    "print(df.head())\n"
   ]
  },
  {
   "cell_type": "code",
   "execution_count": 3,
   "id": "1fb73aa4",
   "metadata": {},
   "outputs": [
    {
     "name": "stdout",
     "output_type": "stream",
     "text": [
      "<class 'pandas.core.frame.DataFrame'>\n",
      "RangeIndex: 367 entries, 0 to 366\n",
      "Data columns (total 12 columns):\n",
      " #   Column                    Non-Null Count  Dtype  \n",
      "---  ------                    --------------  -----  \n",
      " 0   Loan_ID                   367 non-null    object \n",
      " 1   Gender                    356 non-null    object \n",
      " 2   Married                   367 non-null    object \n",
      " 3   Dependents                357 non-null    object \n",
      " 4   Education                 367 non-null    object \n",
      " 5   Self_Employed             344 non-null    object \n",
      " 6   ApplicantIncomeMonthly    367 non-null    int64  \n",
      " 7   CoapplicantIncomeMonthly  367 non-null    int64  \n",
      " 8   LoanAmountThousands       362 non-null    float64\n",
      " 9   Loan_Amount_Term_Months   361 non-null    float64\n",
      " 10  Credit_History            338 non-null    float64\n",
      " 11  Property_Area             367 non-null    object \n",
      "dtypes: float64(3), int64(2), object(7)\n",
      "memory usage: 34.5+ KB\n",
      "None\n",
      "       ApplicantIncomeMonthly  CoapplicantIncomeMonthly  LoanAmountThousands  \\\n",
      "count              367.000000                367.000000           362.000000   \n",
      "mean              4805.599455               1569.577657           136.132597   \n",
      "std               4910.685399               2334.232099            61.366652   \n",
      "min                  0.000000                  0.000000            28.000000   \n",
      "25%               2864.000000                  0.000000           100.250000   \n",
      "50%               3786.000000               1025.000000           125.000000   \n",
      "75%               5060.000000               2430.500000           158.000000   \n",
      "max              72529.000000              24000.000000           550.000000   \n",
      "\n",
      "       Loan_Amount_Term_Months  Credit_History  \n",
      "count               361.000000      338.000000  \n",
      "mean                342.537396        0.825444  \n",
      "std                  65.156643        0.380150  \n",
      "min                   6.000000        0.000000  \n",
      "25%                 360.000000        1.000000  \n",
      "50%                 360.000000        1.000000  \n",
      "75%                 360.000000        1.000000  \n",
      "max                 480.000000        1.000000  \n",
      "Loan_ID                     367\n",
      "Gender                        2\n",
      "Married                       2\n",
      "Dependents                    4\n",
      "Education                     2\n",
      "Self_Employed                 2\n",
      "ApplicantIncomeMonthly      314\n",
      "CoapplicantIncomeMonthly    194\n",
      "LoanAmountThousands         144\n",
      "Loan_Amount_Term_Months      12\n",
      "Credit_History                2\n",
      "Property_Area                 3\n",
      "dtype: int64\n",
      "Loan_ID                      object\n",
      "Gender                       object\n",
      "Married                      object\n",
      "Dependents                   object\n",
      "Education                    object\n",
      "Self_Employed                object\n",
      "ApplicantIncomeMonthly        int64\n",
      "CoapplicantIncomeMonthly      int64\n",
      "LoanAmountThousands         float64\n",
      "Loan_Amount_Term_Months     float64\n",
      "Credit_History              float64\n",
      "Property_Area                object\n",
      "dtype: object\n",
      "Loan_ID                      0\n",
      "Gender                      11\n",
      "Married                      0\n",
      "Dependents                  10\n",
      "Education                    0\n",
      "Self_Employed               23\n",
      "ApplicantIncomeMonthly       0\n",
      "CoapplicantIncomeMonthly     0\n",
      "LoanAmountThousands          5\n",
      "Loan_Amount_Term_Months      6\n",
      "Credit_History              29\n",
      "Property_Area                0\n",
      "dtype: int64\n"
     ]
    }
   ],
   "source": [
    "print(df.info())\n",
    "print(df.describe())\n",
    "print(df.nunique())\n",
    "print(df.dtypes)\n",
    "print(df.isnull().sum())"
   ]
  },
  {
   "cell_type": "code",
   "execution_count": 4,
   "id": "4bd977e4",
   "metadata": {},
   "outputs": [
    {
     "name": "stderr",
     "output_type": "stream",
     "text": [
      "C:\\Users\\Office\\AppData\\Local\\Temp\\ipykernel_15612\\1697946029.py:4: FutureWarning: A value is trying to be set on a copy of a DataFrame or Series through chained assignment using an inplace method.\n",
      "The behavior will change in pandas 3.0. This inplace method will never work because the intermediate object on which we are setting values always behaves as a copy.\n",
      "\n",
      "For example, when doing 'df[col].method(value, inplace=True)', try using 'df.method({col: value}, inplace=True)' or df[col] = df[col].method(value) instead, to perform the operation inplace on the original object.\n",
      "\n",
      "\n",
      "  df[col].fillna(df[col].mode()[0], inplace=True)\n",
      "C:\\Users\\Office\\AppData\\Local\\Temp\\ipykernel_15612\\1697946029.py:6: FutureWarning: A value is trying to be set on a copy of a DataFrame or Series through chained assignment using an inplace method.\n",
      "The behavior will change in pandas 3.0. This inplace method will never work because the intermediate object on which we are setting values always behaves as a copy.\n",
      "\n",
      "For example, when doing 'df[col].method(value, inplace=True)', try using 'df.method({col: value}, inplace=True)' or df[col] = df[col].method(value) instead, to perform the operation inplace on the original object.\n",
      "\n",
      "\n",
      "  df[col].fillna(df[col].mean(), inplace=True)\n"
     ]
    },
    {
     "name": "stdout",
     "output_type": "stream",
     "text": [
      "ApplicantIncomeMonthly      int64\n",
      "CoapplicantIncomeMonthly    int64\n",
      "LoanAmountThousands         int64\n",
      "Loan_Amount_Term_Months     int64\n",
      "Credit_History              int64\n",
      "                            ...  \n",
      "Dependents_3+               int64\n",
      "Education_Not Graduate      int64\n",
      "Self_Employed_Yes           int64\n",
      "Property_Area_Semiurban     int64\n",
      "Property_Area_Urban         int64\n",
      "Length: 380, dtype: object\n"
     ]
    }
   ],
   "source": [
    "for col in df.columns:\n",
    "    if df[col].isnull().sum() > 0:\n",
    "        if df[col].dtype == 'object':\n",
    "            df[col].fillna(df[col].mode()[0], inplace=True)\n",
    "        else:\n",
    "            df[col].fillna(df[col].mean(), inplace=True)\n",
    "df = pd.get_dummies(df, drop_first=True)\n",
    "for col in df.columns:\n",
    "    df[col] = df[col].astype(int)\n",
    "print(df.dtypes)\n"
   ]
  },
  {
   "cell_type": "code",
   "execution_count": null,
   "id": "8228a30b",
   "metadata": {},
   "outputs": [],
   "source": [
    "from sklearn.model_selection import train_test_split\n",
    "from sklearn.linear_model import LogisticRegression\n",
    "from sklearn.metrics import accuracy_score\n",
    "df = df.dropna()\n",
    "X = df.drop('Loan_Status', axis=1)\n",
    "y = df['Loan_Status']\n",
    "X = pd.get_dummies(X, drop_first=True)\n",
    "y = y.map({'Y': 1, 'N': 0}) \n",
    "X_train, X_test, y_train, y_test = train_test_split(X, y, test_size=0.2, random_state=42)\n",
    "model = LogisticRegression(max_iter=1000)\n",
    "model.fit(X_train, y_train)\n",
    "y_pred = model.predict(X_test)\n",
    "accuracy = accuracy_score(y_test, y_pred)\n",
    "print(f\"Accuracy Score: {accuracy:.2f}\")"
   ]
  },
  {
   "cell_type": "code",
   "execution_count": null,
   "id": "1cf16e8f",
   "metadata": {},
   "outputs": [],
   "source": [
    "from flask import Flask, render_template, request\n",
    "import pandas as pd\n",
    "import numpy as np\n",
    "import pickle\n",
    "class MockModel:\n",
    "    def predict(self, X):\n",
    "        return [1] \n",
    "model = MockModel()\n",
    "app = Flask(__name__)\n",
    "@app.route('/')\n",
    "def home():\n",
    "    return render_template('index.html')\n",
    "@app.route('/predict', methods=['POST'])\n",
    "def predict():\n",
    "    features = [float(request.form.get(f)) for f in ['feature1', 'feature2', 'feature3']]\n",
    "    input_data = np.array([features])\n",
    "    prediction = model.predict(input_data)[0]\n",
    "    result = 'Loan Approved' if prediction == 1 else 'Loan Denied'\n",
    "    return render_template('index.html', prediction_text=result)\n",
    "if __name__ == '__main__':\n",
    "    app.run(debug=True)"
   ]
  }
 ],
 "metadata": {
  "kernelspec": {
   "display_name": "Python 3",
   "language": "python",
   "name": "python3"
  },
  "language_info": {
   "codemirror_mode": {
    "name": "ipython",
    "version": 3
   },
   "file_extension": ".py",
   "mimetype": "text/x-python",
   "name": "python",
   "nbconvert_exporter": "python",
   "pygments_lexer": "ipython3",
   "version": "3.13.3"
  }
 },
 "nbformat": 4,
 "nbformat_minor": 5
}
