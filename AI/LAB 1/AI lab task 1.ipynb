{
 "cells": [
  {
   "cell_type": "code",
   "execution_count": null,
   "id": "0cfecb46-d622-4f28-88d6-35e256d5830c",
   "metadata": {},
   "outputs": [
    {
     "name": "stdout",
     "output_type": "stream",
     "text": [
      "Dynamic calculator (Type 'exit' to quit)\n"
     ]
    },
    {
     "name": "stdin",
     "output_type": "stream",
     "text": [
      "Enter an expression:  1+2*3*(4-5/4)-(3/5)\n"
     ]
    },
    {
     "name": "stdout",
     "output_type": "stream",
     "text": [
      "Result: 16.9\n"
     ]
    }
   ],
   "source": [
    "def dynamic_calculator():\n",
    "    print(\"Dynamic calculator (Type 'exit' to quit)\")\n",
    "    \n",
    "    while True:\n",
    "        user_input = input(\"Enter an expression: \")\n",
    "        if user_input.lower() == 'exit':\n",
    "            print(\"Exiting the calculater. Goodbye!\")\n",
    "            break\n",
    "        try:\n",
    "            result = eval(user_input)\n",
    "            print(f\"Result: {result}\")\n",
    "        except Excepion as e:\n",
    "            print(f\"Error: {e}. Please try again with a valid expression.\")\n",
    "            \n",
    "if __name__ == \"__main__\":\n",
    "     dynamic_calculator()\n",
    "            "
   ]
  },
  {
   "cell_type": "code",
   "execution_count": null,
   "id": "7c98b07c-c3b9-43ca-ac0e-e623517aa8bb",
   "metadata": {},
   "outputs": [],
   "source": []
  },
  {
   "cell_type": "code",
   "execution_count": null,
   "id": "47a4deb2-979c-4b86-bb5e-410db989adfa",
   "metadata": {},
   "outputs": [],
   "source": []
  }
 ],
 "metadata": {
  "kernelspec": {
   "display_name": "Python 3 (ipykernel)",
   "language": "python",
   "name": "python3"
  },
  "language_info": {
   "codemirror_mode": {
    "name": "ipython",
    "version": 3
   },
   "file_extension": ".py",
   "mimetype": "text/x-python",
   "name": "python",
   "nbconvert_exporter": "python",
   "pygments_lexer": "ipython3",
   "version": "3.11.7"
  },
  "widgets": {
   "application/vnd.jupyter.widget-state+json": {
    "state": {},
    "version_major": 2,
    "version_minor": 0
   }
  }
 },
 "nbformat": 4,
 "nbformat_minor": 5
}
