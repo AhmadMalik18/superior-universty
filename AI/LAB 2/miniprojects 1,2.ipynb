{
 "cells": [
  {
   "cell_type": "markdown",
   "id": "d61c3d32-7612-4058-a44a-9218d9e2f7a6",
   "metadata": {},
   "source": [
    "                                          MINI PRJECT 1"
   ]
  },
  {
   "cell_type": "code",
   "execution_count": 6,
   "id": "081ba6bd-37b8-4d16-b6ac-d4e0cccb88c2",
   "metadata": {},
   "outputs": [
    {
     "name": "stdout",
     "output_type": "stream",
     "text": [
      "1\n",
      "2\n",
      "Fizz\n",
      "4\n",
      "Buzz\n",
      "Fizz\n",
      "7\n"
     ]
    }
   ],
   "source": [
    "def fizz_buzz(n):\n",
    "    for i in range(1, n+1):\n",
    "        if i % 3 == 0 and i % 5 == 0:\n",
    "            print(\"Fizz buzz\")\n",
    "        elif i % 3 == 0:\n",
    "            print(\"Fizz\")\n",
    "        elif i % 5 == 0:\n",
    "            print(\"Buzz\")\n",
    "        else:\n",
    "            print(i)\n",
    "fizz_buzz(7)"
   ]
  },
  {
   "cell_type": "markdown",
   "id": "e0bde2f1-44d2-430f-b847-a4386823fe34",
   "metadata": {},
   "source": [
    "                                    MINI PROJECT 2"
   ]
  },
  {
   "cell_type": "code",
   "execution_count": 9,
   "id": "bbe0d27d-9887-499b-8fe8-84e033a1e4a8",
   "metadata": {},
   "outputs": [
    {
     "name": "stdin",
     "output_type": "stream",
     "text": [
      "\n",
      "How many movies would you like to add?  2\n",
      "Enter the movie name:  Memento\n",
      "Enter the movie budget:  12003000\n",
      "Enter the movie name:  Avengers\n",
      "Enter the movie budget:  123490000000\n"
     ]
    },
    {
     "name": "stdout",
     "output_type": "stream",
     "text": [
      "Average budget: $13,870,611,444.44\n",
      "\n",
      "1 movies have a budget higher than the average:\n",
      "Avengers: $123,490,000,000.00 (109,619,388,555.56 higher than the average)\n"
     ]
    }
   ],
   "source": [
    "movies = [\n",
    "    (\"Eternal Sunshine of the Spotless Mind\", 20000000),\n",
    "    (\"Memento\", 9000000),\n",
    "    (\"Requiem for a Dream\", 4500000),\n",
    "    (\"Pirates of the Caribbean: On Stranger Tides\", 379000000),\n",
    "    (\"Avengers: Age of Ultron\", 365000000),\n",
    "    (\"Avengers: Endgame\", 356000000) ,\n",
    "    (\"Incredibles 2\", 200000000)\n",
    "]\n",
    "def calculate_identify_high_budget_movie(movie_list):\n",
    "    total_budget = sum(movie[1] for movie in movie_list)\n",
    "    average_budget = total_budget / len(movie_list)\n",
    "    print (f\"Average_budget: ${average_budget:,2f}\")\n",
    "    high_budget_movie = []\n",
    "    for movie in movie_list:\n",
    "        name, budget = movie\n",
    "        if budget > average_budget:\n",
    "            high_budget_movies.append((name, budget, budget - average_budget))\n",
    "            print(f\"\\n{len(high_budget_movies)} movies have a budget higher:\")\n",
    "    for movie in high_budget_movies:\n",
    "        name, budget, differnce = movie\n",
    "        print(f\"{name}: ${budget:,.2f} ({difference:,.2f} higher than the average)\")\n",
    "\n",
    "    return high_budget_movies\n",
    "def add_movies():\n",
    "    try:\n",
    "        num_movies_to_add = int(input(\"\\nHow many movies would you like to add? \"))\n",
    "        for _ in range(num_movies_to_add):\n",
    "            movie_name = input(\"Enter the movie name: \")\n",
    "            movie_budget = int(input(\"Enter the movie budget: \"))\n",
    "            movies.append((movie_name, movie_budget))\n",
    "    except ValueError:\n",
    "           print(\"Please enter valid numbers.\")\n",
    "\n",
    "if __name__ == \"__main__\":\n",
    "    add_movies()  \n",
    "    calculate_and_identify_high_budget_movies(movies)\n",
    "            \n",
    "        \n",
    "            "
   ]
  },
  {
   "cell_type": "code",
   "execution_count": null,
   "id": "5c0505c2-2d7e-45a5-91b1-df9ca8051427",
   "metadata": {},
   "outputs": [],
   "source": []
  }
 ],
 "metadata": {
  "kernelspec": {
   "display_name": "Python 3 (ipykernel)",
   "language": "python",
   "name": "python3"
  },
  "language_info": {
   "codemirror_mode": {
    "name": "ipython",
    "version": 3
   },
   "file_extension": ".py",
   "mimetype": "text/x-python",
   "name": "python",
   "nbconvert_exporter": "python",
   "pygments_lexer": "ipython3",
   "version": "3.11.7"
  },
  "widgets": {
   "application/vnd.jupyter.widget-state+json": {
    "state": {},
    "version_major": 2,
    "version_minor": 0
   }
  }
 },
 "nbformat": 4,
 "nbformat_minor": 5
}
